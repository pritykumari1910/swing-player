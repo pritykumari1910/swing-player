{
 "cells": [
  {
   "cell_type": "code",
   "execution_count": null,
   "id": "5de4458d",
   "metadata": {},
   "outputs": [
    {
     "name": "stdout",
     "output_type": "stream",
     "text": [
      "pygame 2.3.0 (SDL 2.24.2, Python 3.9.12)\n",
      "Hello from the pygame community. https://www.pygame.org/contribute.html\n",
      "Afsos Karoge - Stebin Ben.mp3\n"
     ]
    }
   ],
   "source": [
    "import pygame\n",
    "from pygame import mixer\n",
    "from tkinter import *\n",
    "import os\n",
    "\n",
    "def playsong():\n",
    "    currentsong=playlist.get(ACTIVE)\n",
    "    print(currentsong)\n",
    "    mixer.music.load(currentsong)\n",
    "    songstatus.set(\"Playing\")\n",
    "    mixer.music.play()\n",
    "\n",
    "def pausesong():\n",
    "    songstatus.set(\"Paused\")\n",
    "    mixer.music.pause()\n",
    "\n",
    "def stopsong():\n",
    "    songstatus.set(\"Stopped\")\n",
    "    mixer.music.stop()\n",
    "\n",
    "def resumesong():\n",
    "    songstatus.set(\"Resuming\")\n",
    "    mixer.music.unpause()    \n",
    "\n",
    "root=Tk()\n",
    "root.title('swing music player')\n",
    "\n",
    "mixer.init()\n",
    "songstatus=StringVar()\n",
    "songstatus.set(\"choosing\")\n",
    "\n",
    "#playlist---------------\n",
    "\n",
    "playlist=Listbox(root,selectmode=SINGLE,bg=\"black\",fg=\"white\",font=('times new roman',15),width=40)\n",
    "playlist.grid(columnspan=5)\n",
    "\n",
    "os.chdir(r'C:\\Users\\prity\\song all')\n",
    "\n",
    "\n",
    "songs=os.listdir()\n",
    "for s in songs:\n",
    "    playlist.insert(END,s)\n",
    "\n",
    "playbtn=Button(root,text=\"play\",command=playsong)\n",
    "playbtn.config(font=('times new roman',20),bg=\"black\",fg=\"white\",padx=7,pady=7)\n",
    "playbtn.grid(row=1,column=0)\n",
    "\n",
    "pausebtn=Button(root,text=\"Pause\",command=pausesong)\n",
    "pausebtn.config(font=('times new roman',20),bg=\"black\",fg=\"white\",padx=7,pady=7)\n",
    "pausebtn.grid(row=1,column=1)\n",
    "\n",
    "stopbtn=Button(root,text=\"Stop\",command=stopsong)\n",
    "stopbtn.config(font=('times new roman',20),bg=\"black\",fg=\"white\",padx=7,pady=7)\n",
    "stopbtn.grid(row=1,column=2)\n",
    "\n",
    "Resumebtn=Button(root,text=\"Resume\",command=resumesong)\n",
    "Resumebtn.config(font=('times new roman',20),bg=\"black\",fg=\"white\",padx=7,pady=7)\n",
    "Resumebtn.grid(row=1,column=3)\n",
    "\n",
    "mainloop()"
   ]
  },
  {
   "cell_type": "code",
   "execution_count": null,
   "id": "989f5299",
   "metadata": {},
   "outputs": [],
   "source": []
  },
  {
   "cell_type": "code",
   "execution_count": null,
   "id": "14c64d57",
   "metadata": {},
   "outputs": [],
   "source": []
  },
  {
   "cell_type": "code",
   "execution_count": null,
   "id": "84fb7b49",
   "metadata": {},
   "outputs": [],
   "source": []
  }
 ],
 "metadata": {
  "kernelspec": {
   "display_name": "Python 3 (ipykernel)",
   "language": "python",
   "name": "python3"
  },
  "language_info": {
   "codemirror_mode": {
    "name": "ipython",
    "version": 3
   },
   "file_extension": ".py",
   "mimetype": "text/x-python",
   "name": "python",
   "nbconvert_exporter": "python",
   "pygments_lexer": "ipython3",
   "version": "3.9.12"
  }
 },
 "nbformat": 4,
 "nbformat_minor": 5
}
